{
  "nbformat": 4,
  "nbformat_minor": 0,
  "metadata": {
    "colab": {
      "name": "gridsearch_Data_carbone_0.ipynb",
      "provenance": [],
      "collapsed_sections": []
    },
    "kernelspec": {
      "name": "python3",
      "display_name": "Python 3"
    },
    "language_info": {
      "name": "python"
    }
  },
  "cells": [
    {
      "cell_type": "code",
      "metadata": {
        "colab": {
          "base_uri": "https://localhost:8080/"
        },
        "id": "hSrOTx4BDLc3",
        "outputId": "01d7a1bc-6ad3-4b3b-9729-5122480c81c9"
      },
      "source": [
        "import statistics as s\n",
        "import pandas as pd\n",
        "import numpy as np\n",
        "import matplotlib.pyplot as plt\n",
        "from sklearn.ensemble import RandomForestRegressor\n",
        "from mlxtend.feature_selection import SequentialFeatureSelector as sfs\n",
        "from sklearn.metrics import mean_squared_error, mean_squared_log_error, max_error\n",
        "from sklearn.model_selection import train_test_split, cross_val_score, KFold, validation_curve, GridSearchCV\n",
        "from sklearn.cross_decomposition import PLSRegression\n",
        "from sklearn.decomposition import PCA\n",
        "from sklearn.pipeline import Pipeline\n",
        "from sklearn.neural_network import MLPRegressor\n",
        "from sklearn.svm import SVR\n",
        "from sklearn.tree import DecisionTreeRegressor\n",
        "from sklearn.neighbors import KNeighborsRegressor\n",
        "from sklearn.pipeline import make_pipeline\n",
        "from math import sqrt, log, log10\n",
        "%matplotlib inline \n",
        "plt.rcParams['figure.figsize'] = (12, 8)"
      ],
      "execution_count": null,
      "outputs": [
        {
          "output_type": "stream",
          "text": [
            "/usr/local/lib/python3.7/dist-packages/sklearn/externals/joblib/__init__.py:15: FutureWarning: sklearn.externals.joblib is deprecated in 0.21 and will be removed in 0.23. Please import this functionality directly from joblib, which can be installed with: pip install joblib. If this warning is raised when loading pickled models, you may need to re-serialize those models with scikit-learn 0.21+.\n",
            "  warnings.warn(msg, category=FutureWarning)\n"
          ],
          "name": "stderr"
        }
      ]
    },
    {
      "cell_type": "code",
      "metadata": {
        "id": "4taSzK2JDNjo"
      },
      "source": [
        "DBCT_PT=pd.read_csv(\"http://bit.ly/DBCarbone_no_ol\",index_col=0,decimal = ',',sep=\";\")\n",
        "l=DBCT_PT.shape[0]\n",
        "c=DBCT_PT.shape[1]\n",
        "Y=DBCT_PT[\"Y\"]\n",
        "X=DBCT_PT.drop(\"Y\",axis=1)"
      ],
      "execution_count": null,
      "outputs": []
    },
    {
      "cell_type": "code",
      "metadata": {
        "id": "OhFdcROIDNwO"
      },
      "source": [
        "x_train, x_test, y_train, y_test = train_test_split(X,Y,test_size=0.2,random_state = 100)"
      ],
      "execution_count": null,
      "outputs": []
    },
    {
      "cell_type": "code",
      "metadata": {
        "id": "QiE80Y0FDMMh",
        "colab": {
          "base_uri": "https://localhost:8080/"
        },
        "outputId": "e6018020-e7b7-43ba-de6b-57e1694b7916"
      },
      "source": [
        "grid_p_svr={'coef0':[0.1,0.2,0.3,0.4,0.5,0.6,0.7,0.8,0.9,1.0,1.1,1.2,1.3,1.4,1.5,1.6,1.7,1.8,1.9],\n",
        "'kernel':[\"linear\", \"poly\", \"rbf\", \"sigmoid\"],\n",
        "'gamma':[\"scale\", \"auto\"],\n",
        "'tol':[0.001,0.002,0.003,0.004,0.005,0.006,0.007,0.008,0.009,0.01],\n",
        "'epsilon':[0.0001,0.0005,0.001,0.005,0.01,0.005,0.1],\n",
        "'shrinking':[False,True]}\n",
        "grid_r_svr=GridSearchCV(SVR(),grid_p_svr,cv=5)\n",
        "grid_r_svr.fit(x_train,y_train)"
      ],
      "execution_count": null,
      "outputs": [
        {
          "output_type": "execute_result",
          "data": {
            "text/plain": [
              "GridSearchCV(cv=5, error_score=nan,\n",
              "             estimator=SVR(C=1.0, cache_size=200, coef0=0.0, degree=3,\n",
              "                           epsilon=0.1, gamma='scale', kernel='rbf',\n",
              "                           max_iter=-1, shrinking=True, tol=0.001,\n",
              "                           verbose=False),\n",
              "             iid='deprecated', n_jobs=None,\n",
              "             param_grid={'coef0': [0.1, 0.2, 0.3, 0.4, 0.5, 0.6, 0.7, 0.8, 0.9,\n",
              "                                   1.0, 1.1, 1.2, 1.3, 1.4, 1.5, 1.6, 1.7, 1.8,\n",
              "                                   1.9],\n",
              "                         'epsilon': [0.0001, 0.0005, 0.001, 0.005, 0.01, 0.005,\n",
              "                                     0.1],\n",
              "                         'gamma': ['scale', 'auto'],\n",
              "                         'kernel': ['linear', 'poly', 'rbf', 'sigmoid'],\n",
              "                         'shrinking': [False, True],\n",
              "                         'tol': [0.001, 0.002, 0.003, 0.004, 0.005, 0.006,\n",
              "                                 0.007, 0.008, 0.009, 0.01]},\n",
              "             pre_dispatch='2*n_jobs', refit=True, return_train_score=False,\n",
              "             scoring=None, verbose=0)"
            ]
          },
          "metadata": {
            "tags": []
          },
          "execution_count": 7
        }
      ]
    },
    {
      "cell_type": "code",
      "metadata": {
        "id": "nNS9R3sQDM4_"
      },
      "source": [
        "grid_p_mlp={'solver':[\"adam\",\"lbfgs\"],\n",
        "            'alpha':list(np.linspace(0.00001,0.1,99991)),\n",
        "            'batch_size':[int(i) for i in np.linspace(100,400,301)],\n",
        "            'learning_rate':[\"constant\", \"invscaling\", \"adaptive\"],\n",
        "            'shuffle':[True,False],\n",
        "            'tol':list(np.linspace(0.0001,0.01,9901)),\n",
        "            'warm_start':[True,False],\n",
        "            'validation_fraction':list(np.linspace(0.1,0.9,100)),\n",
        "            'beta_1':list(np.linspace(0.1,0.9,100),\n",
        "            'beta_2':list(np.linspace(0.1,0.999,100)}\n",
        "grid_r_mlp=GridSearchCV(MLPRegressor(),grid_p_mlp,cv=5)\n",
        "grid_r_mlp.fit(x_train,y_train)"
      ],
      "execution_count": null,
      "outputs": []
    },
    {
      "cell_type": "code",
      "metadata": {
        "id": "cFe6VyFGDND_"
      },
      "source": [
        "grid_p_rf={'n_estimators':[int(i) for i in np.linspace(900,1200,301)],\n",
        "           'max_leaf_nodes':[1,3,5,7,9,11,13,15,17,19],\n",
        "           'oob_score':[True,False],\n",
        "           'warm_start':[True,False]}\n",
        "grid_r_rf=GridSearchCV(RandomForestRegressor(),grid_p_rf,cv=5)\n",
        "grid_r_rf.fit(x_train,y_train)"
      ],
      "execution_count": null,
      "outputs": []
    },
    {
      "cell_type": "code",
      "metadata": {
        "id": "iZVw872FDNPK"
      },
      "source": [
        "grid_p_dt={'max_leaf_nodes':[1,3,5,7,9,11,13,15,17,19]}\n",
        "grid_r_dt=GridSearchCV(DecisionTreeRegressor(),grid_p_dt,cv=5)\n",
        "grid_r_dt.fit(x_train,y_train)"
      ],
      "execution_count": null,
      "outputs": []
    },
    {
      "cell_type": "code",
      "metadata": {
        "id": "0ZUj0kh5DNaZ"
      },
      "source": [
        "grid_p_knn={'n_neighbors':[1,3,5,7,9,11,13,15,17,19],\n",
        "            'weights':[\"distance\"],\n",
        "            'algorithm':[\"auto\", \"ball_tree\", \"kd_tree\", \"brute\"],\n",
        "            'leaf_size':[int(i) for i in np.linspace(10,50,41)],\n",
        "            'metric':[\"euclidean\",\"manhattan\",\"chebyshev\",\"minkowski\"]}\n",
        "grid_r_knn=GridSearchCV(KNeighborsRegressor(),grid_p_knn,cv=5)\n",
        "grid_r_knn.fit(x_train,y_train)"
      ],
      "execution_count": null,
      "outputs": []
    },
    {
      "cell_type": "code",
      "metadata": {
        "id": "ZKIMTHvWNnUe"
      },
      "source": [
        "grid_r_svr.best_params_"
      ],
      "execution_count": null,
      "outputs": []
    },
    {
      "cell_type": "code",
      "metadata": {
        "id": "89YlvvO2HPVY"
      },
      "source": [
        "grid_r_mlp.best_params_"
      ],
      "execution_count": null,
      "outputs": []
    },
    {
      "cell_type": "code",
      "metadata": {
        "id": "_NGLz5u1e02G"
      },
      "source": [
        "grid_r_rf.best_params_"
      ],
      "execution_count": null,
      "outputs": []
    },
    {
      "cell_type": "code",
      "metadata": {
        "id": "C7tFicQqe1Ex",
        "colab": {
          "base_uri": "https://localhost:8080/"
        },
        "outputId": "57139333-e7cf-475c-e39b-296a714ff8eb"
      },
      "source": [
        "grid_r_dt.best_params_"
      ],
      "execution_count": null,
      "outputs": [
        {
          "output_type": "execute_result",
          "data": {
            "text/plain": [
              "{'max_leaf_nodes': 3}"
            ]
          },
          "metadata": {
            "tags": []
          },
          "execution_count": 9
        }
      ]
    },
    {
      "cell_type": "code",
      "metadata": {
        "colab": {
          "base_uri": "https://localhost:8080/"
        },
        "id": "EXN2qOdyS-W2",
        "outputId": "b101937d-9bbf-4bb4-dee6-833a21bdc085"
      },
      "source": [
        "grid_r_knn.best_params_"
      ],
      "execution_count": null,
      "outputs": [
        {
          "output_type": "execute_result",
          "data": {
            "text/plain": [
              "{'algorithm': 'auto',\n",
              " 'leaf_size': 10,\n",
              " 'metric': 'euclidean',\n",
              " 'n_neighbors': 5,\n",
              " 'weights': 'distance'}"
            ]
          },
          "metadata": {
            "tags": []
          },
          "execution_count": 11
        }
      ]
    }
  ]
}