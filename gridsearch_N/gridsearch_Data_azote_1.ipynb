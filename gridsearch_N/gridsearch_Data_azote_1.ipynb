{
  "nbformat": 4,
  "nbformat_minor": 0,
  "metadata": {
    "colab": {
      "name": "gridsearch_Data_azote_1.ipynb",
      "provenance": [],
      "collapsed_sections": []
    },
    "kernelspec": {
      "name": "python3",
      "display_name": "Python 3"
    },
    "language_info": {
      "name": "python"
    }
  },
  "cells": [
    {
      "cell_type": "code",
      "metadata": {
        "colab": {
          "base_uri": "https://localhost:8080/"
        },
        "id": "RodK8w3VMW9Y",
        "outputId": "3dacba9e-07d9-41f1-c59d-fc9e7ecd0c1a"
      },
      "source": [
        "import statistics as s\n",
        "import pandas as pd\n",
        "import numpy as np\n",
        "import matplotlib.pyplot as plt\n",
        "from sklearn.ensemble import RandomForestRegressor\n",
        "from mlxtend.feature_selection import SequentialFeatureSelector as sfs\n",
        "from sklearn.metrics import mean_squared_error, mean_squared_log_error, max_error\n",
        "from sklearn.model_selection import train_test_split, cross_val_score, KFold, validation_curve, GridSearchCV\n",
        "from sklearn.cross_decomposition import PLSRegression\n",
        "from sklearn.decomposition import PCA\n",
        "from sklearn.pipeline import Pipeline\n",
        "from sklearn.neural_network import MLPRegressor\n",
        "from sklearn.svm import SVR\n",
        "from sklearn.tree import DecisionTreeRegressor\n",
        "from sklearn.neighbors import KNeighborsRegressor\n",
        "from sklearn.pipeline import make_pipeline\n",
        "from math import sqrt, log, log10\n",
        "%matplotlib inline \n",
        "plt.rcParams['figure.figsize'] = (12, 8)"
      ],
      "execution_count": null,
      "outputs": [
        {
          "output_type": "stream",
          "text": [
            "/usr/local/lib/python3.7/dist-packages/sklearn/externals/joblib/__init__.py:15: FutureWarning: sklearn.externals.joblib is deprecated in 0.21 and will be removed in 0.23. Please import this functionality directly from joblib, which can be installed with: pip install joblib. If this warning is raised when loading pickled models, you may need to re-serialize those models with scikit-learn 0.21+.\n",
            "  warnings.warn(msg, category=FutureWarning)\n"
          ],
          "name": "stderr"
        }
      ]
    },
    {
      "cell_type": "code",
      "metadata": {
        "id": "tKr-xP8aMm_D"
      },
      "source": [
        "DBCT_PT=pd.read_csv(\"https://bit.ly/movaveragegap1mscN\",index_col=0,decimal = ',',sep=\";\")\n",
        "l=DBCT_PT.shape[0]\n",
        "c=DBCT_PT.shape[1]\n",
        "Y=DBCT_PT[\"Y\"]\n",
        "X=DBCT_PT.drop(\"Y\",axis=1)"
      ],
      "execution_count": null,
      "outputs": []
    },
    {
      "cell_type": "code",
      "metadata": {
        "id": "JJ52YYUeNARJ"
      },
      "source": [
        "x_train, x_test, y_train, y_test = train_test_split(X,Y,test_size=0.2,random_state = 100)"
      ],
      "execution_count": null,
      "outputs": []
    },
    {
      "cell_type": "code",
      "metadata": {
        "id": "0542KxFMMt8X"
      },
      "source": [
        "grid_p_svr={'coef0':[0.1,0.2,0.3,0.4,0.5,0.6,0.7,0.8,0.9,1.0,1.1,1.2,1.3,1.4,1.5,1.6,1.7,1.8,1.9],\n",
        "'kernel':[\"linear\", \"poly\", \"rbf\", \"sigmoid\"],\n",
        "'gamma':[\"scale\", \"auto\"],\n",
        "'tol':[0.001,0.002,0.003,0.004,0.005,0.006,0.007,0.008,0.009,0.01],\n",
        "'epsilon':[0.0001,0.0005,0.001,0.005,0.01,0.005,0.1],\n",
        "'shrinking':[False,True]}\n",
        "grid_r_svr=GridSearchCV(SVR(),grid_p_svr,cv=5)\n",
        "grid_r_svr.fit(x_train,y_train)"
      ],
      "execution_count": null,
      "outputs": []
    },
    {
      "cell_type": "code",
      "metadata": {
        "id": "g05RgJMbNIy8"
      },
      "source": [
        "grid_p_mlp={'solver':[\"adam\",\"lbfgs\"],\n",
        "            'alpha':list(np.linspace(0.00001,0.1,99991)),\n",
        "            'batch_size':[int(i) for i in np.linspace(100,400,301)],\n",
        "            'learning_rate':[\"constant\", \"invscaling\", \"adaptive\"],\n",
        "            'shuffle':[True,False],\n",
        "            'tol':list(np.linspace(0.0001,0.01,9901)),\n",
        "            'warm_start':[True,False],\n",
        "            'validation_fraction':list(np.linspace(0.1,0.9,100)),\n",
        "            'beta_1':list(np.linspace(0.1,0.9,100),\n",
        "            'beta_2':list(np.linspace(0.1,0.999,100)}\n",
        "grid_r_mlp=GridSearchCV(MLPRegressor(),grid_p_mlp,cv=5)\n",
        "grid_r_mlp.fit(x_train,y_train)"
      ],
      "execution_count": null,
      "outputs": []
    },
    {
      "cell_type": "code",
      "metadata": {
        "id": "coyHRJC0NOQu"
      },
      "source": [
        "grid_p_rf={'n_estimators':[int(i) for i in np.linspace(900,1200,301)],\n",
        "           'max_leaf_nodes':[1,3,5,7,9,11,13,15,17,19],\n",
        "           'oob_score':[True,False],\n",
        "           'warm_start':[True,False]}\n",
        "grid_r_rf=GridSearchCV(RandomForestRegressor(),grid_p_rf,cv=5)\n",
        "grid_r_rf.fit(x_train,y_train)"
      ],
      "execution_count": null,
      "outputs": []
    },
    {
      "cell_type": "code",
      "metadata": {
        "id": "X83yTIGyNWp_"
      },
      "source": [
        "grid_p_dt={'max_leaf_nodes':[1,3,5,7,9,11,13,15,17,19]}\n",
        "grid_r_dt=GridSearchCV(DecisionTreeRegressor(),grid_p_dt,cv=5)\n",
        "grid_r_dt.fit(x_train,y_train)"
      ],
      "execution_count": null,
      "outputs": []
    },
    {
      "cell_type": "code",
      "metadata": {
        "id": "hb0D8BRkNfsf"
      },
      "source": [
        "grid_p_knn={'n_neighbors':[1,3,5,7,9,11,13,15,17,19],\n",
        "            'weights':[\"distance\"],\n",
        "            'algorithm':[\"auto\", \"ball_tree\", \"kd_tree\", \"brute\"],\n",
        "            'leaf_size':[int(i) for i in np.linspace(10,50,41)],\n",
        "            'metric':[\"euclidean\",\"manhattan\",\"chebyshev\",\"minkowski\"]}\n",
        "grid_r_knn=GridSearchCV(KNeighborsRegressor(),grid_p_knn,cv=5)\n",
        "grid_r_knn.fit(x_train,y_train)"
      ],
      "execution_count": null,
      "outputs": []
    },
    {
      "cell_type": "code",
      "metadata": {
        "id": "oVbNBy5qODxg"
      },
      "source": [
        "grid_r_svr.best_params_"
      ],
      "execution_count": null,
      "outputs": []
    },
    {
      "cell_type": "code",
      "metadata": {
        "id": "-OZvpqmGOD7m"
      },
      "source": [
        "grid_r_mlp.best_params_"
      ],
      "execution_count": null,
      "outputs": []
    },
    {
      "cell_type": "code",
      "metadata": {
        "id": "XFIeTWepOEDo"
      },
      "source": [
        "grid_r_rf.best_params_"
      ],
      "execution_count": null,
      "outputs": []
    },
    {
      "cell_type": "code",
      "metadata": {
        "id": "XKeZwEOAOELl"
      },
      "source": [
        "grid_r_dt.best_params_"
      ],
      "execution_count": null,
      "outputs": []
    },
    {
      "cell_type": "code",
      "metadata": {
        "id": "xeJ76y5hOEUF"
      },
      "source": [
        "grid_r_knn.best_params_"
      ],
      "execution_count": null,
      "outputs": []
    }
  ]
}